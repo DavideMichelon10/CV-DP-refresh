{
  "nbformat": 4,
  "nbformat_minor": 0,
  "metadata": {
    "colab": {
      "provenance": [],
      "authorship_tag": "ABX9TyMbnvBVbZwD4s/fThKVflIm",
      "include_colab_link": true
    },
    "kernelspec": {
      "name": "python3",
      "display_name": "Python 3"
    },
    "language_info": {
      "name": "python"
    }
  },
  "cells": [
    {
      "cell_type": "markdown",
      "metadata": {
        "id": "view-in-github",
        "colab_type": "text"
      },
      "source": [
        "<a href=\"https://colab.research.google.com/github/DavideMichelon10/CV-DP-refresh/blob/main/Feed_forward_propagation.ipynb\" target=\"_parent\"><img src=\"https://colab.research.google.com/assets/colab-badge.svg\" alt=\"Open In Colab\"/></a>"
      ]
    },
    {
      "cell_type": "code",
      "execution_count": 1,
      "metadata": {
        "id": "OdcxD_sec2kw"
      },
      "outputs": [],
      "source": [
        "import numpy as np"
      ]
    },
    {
      "cell_type": "code",
      "source": [
        "def tanh(x):\n",
        "  return (np.exp(x) - np.exp(-x)) / (np.exp(x) + np.exp(-x))\n",
        "def relu(x):\n",
        "  return np.where(x>0, x, 0)\n",
        "def linear(x):\n",
        "  return x"
      ],
      "metadata": {
        "id": "AYbll3OmgXOF"
      },
      "execution_count": 4,
      "outputs": []
    },
    {
      "cell_type": "code",
      "source": [
        "def feed_forward(inputs, outputs, weights):\n",
        "  pre_hidden = np.dot(inputs, weights[0]) + weights[1]\n",
        "  hidden =  1 / (1 + np.exp(-pre_hidden)) # sigmoid\n",
        "  pred_out = np.dot(hidden, weights[2]) + weights[3]\n",
        "  mean_squared_error = np.mean(np.square(outputs - pred_out))\n",
        "  return mean_squared_error"
      ],
      "metadata": {
        "id": "fseUyCqtevrE"
      },
      "execution_count": 3,
      "outputs": []
    },
    {
      "cell_type": "code",
      "source": [
        "def softmax(x: list): #ritorna un probability vector\n",
        "  return np.exp(x) / np.sum (np.exp(x))"
      ],
      "metadata": {
        "colab": {
          "base_uri": "https://localhost:8080/"
        },
        "id": "HQIpn06FhSVQ",
        "outputId": "1dba4dc4-26d0-41db-e90d-8f844cd913fe"
      },
      "execution_count": 10,
      "outputs": [
        {
          "output_type": "execute_result",
          "data": {
            "text/plain": [
              "array([0.00606817, 0.33131061, 0.33131061, 0.33131061])"
            ]
          },
          "metadata": {},
          "execution_count": 10
        }
      ]
    }
  ]
}