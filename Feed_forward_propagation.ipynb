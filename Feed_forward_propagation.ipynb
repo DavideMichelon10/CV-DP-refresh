{
  "nbformat": 4,
  "nbformat_minor": 0,
  "metadata": {
    "colab": {
      "provenance": [],
      "collapsed_sections": [
        "vNXtbUZdvBdv"
      ],
      "authorship_tag": "ABX9TyO7y0lCTTj93cO0qHYlmuEi",
      "include_colab_link": true
    },
    "kernelspec": {
      "name": "python3",
      "display_name": "Python 3"
    },
    "language_info": {
      "name": "python"
    }
  },
  "cells": [
    {
      "cell_type": "markdown",
      "metadata": {
        "id": "view-in-github",
        "colab_type": "text"
      },
      "source": [
        "<a href=\"https://colab.research.google.com/github/DavideMichelon10/CV-DP-refresh/blob/main/Feed_forward_propagation.ipynb\" target=\"_parent\"><img src=\"https://colab.research.google.com/assets/colab-badge.svg\" alt=\"Open In Colab\"/></a>"
      ]
    },
    {
      "cell_type": "code",
      "execution_count": 48,
      "metadata": {
        "id": "OdcxD_sec2kw"
      },
      "outputs": [],
      "source": [
        "import numpy as np\n",
        "import matplotlib.pyplot as plt"
      ]
    },
    {
      "cell_type": "code",
      "source": [
        "def tanh(x):\n",
        "  return (np.exp(x) - np.exp(-x)) / (np.exp(x) + np.exp(-x))\n",
        "def relu(x):\n",
        "  return np.where(x>0, x, 0)\n",
        "def linear(x):\n",
        "  return x"
      ],
      "metadata": {
        "id": "AYbll3OmgXOF"
      },
      "execution_count": 49,
      "outputs": []
    },
    {
      "cell_type": "code",
      "source": [
        "def feed_forward(inputs, outputs, weights):\n",
        "  pre_hidden = np.dot(inputs, weights[0]) + weights[1]\n",
        "  hidden =  1 / (1 + np.exp(-pre_hidden)) # sigmoid\n",
        "  pred_out = np.dot(hidden, weights[2]) + weights[3]\n",
        "  mean_squared_error = np.mean(np.square(outputs - pred_out))\n",
        "  return mean_squared_error"
      ],
      "metadata": {
        "id": "fseUyCqtevrE"
      },
      "execution_count": 50,
      "outputs": []
    },
    {
      "cell_type": "code",
      "source": [
        "def softmax(x: list): #ritorna un probability vector\n",
        "  return np.exp(x) / np.sum (np.exp(x))"
      ],
      "metadata": {
        "id": "HQIpn06FhSVQ"
      },
      "execution_count": 51,
      "outputs": []
    },
    {
      "cell_type": "markdown",
      "source": [
        "## Loss functions"
      ],
      "metadata": {
        "id": "U3K6syjSkk38"
      }
    },
    {
      "cell_type": "code",
      "source": [
        "# variabili continue\n",
        "def mse(outputs, y): # (output - y)^2\n",
        "  return np.mean(np.square(outputs - y))\n",
        "def mae(outputs, y): # |output - y|\n",
        "  return np.mean(np.abs(outputs - y))"
      ],
      "metadata": {
        "id": "wQh3xQ76kxUF"
      },
      "execution_count": 52,
      "outputs": []
    },
    {
      "cell_type": "code",
      "source": [
        "# variabili categoriche\n",
        "def binary_cross_entropy(outputs, y): # [1,1,1,0,1,0,0, ... ]\n",
        "  return - np.mean(y * np.log(outputs) + (1-y) * np.log(1-outputs))\n",
        "\n",
        "def categorical_cross_entropy(outputs, y):\n",
        "  return - np.mean(np.log(outputs[np.arange(len(y)), y]))"
      ],
      "metadata": {
        "id": "giHiIFqflIdp"
      },
      "execution_count": 53,
      "outputs": []
    },
    {
      "cell_type": "markdown",
      "source": [
        "## Gradient descent"
      ],
      "metadata": {
        "id": "vSatEmV7xpvL"
      }
    },
    {
      "cell_type": "code",
      "source": [
        "from copy import deepcopy"
      ],
      "metadata": {
        "id": "oDFxxGvUxtmD"
      },
      "execution_count": 54,
      "outputs": []
    },
    {
      "cell_type": "code",
      "source": [
        "def update_weights(inputs, outputs, weights, lr):\n",
        "    original_weights = deepcopy(weights)\n",
        "    temp_weights = deepcopy(weights)\n",
        "    updated_weights = deepcopy(weights)\n",
        "    original_loss = ff(inputs, outputs, original_weights)\n",
        "\n",
        "    for i, layer in enumerate(original_weights):\n",
        "        for index, weight in np.ndenumerate(layer):\n",
        "            temp_weights = deepcopy(weights)\n",
        "            temp_weights[i][index] += 0.0001\n",
        "            _loss_plus = ff(inputs, outputs, temp_weights)\n",
        "            grad = (_loss_plus - original_loss)/ 0.0001\n",
        "            updated_weights[i][index] -= grad*lr\n",
        "    return updated_weights, original_loss"
      ],
      "metadata": {
        "id": "-1LBKFgex6yD"
      },
      "execution_count": 55,
      "outputs": []
    },
    {
      "cell_type": "code",
      "source": [
        "x = np.array([[1,1]])\n",
        "y = np.array([[0]])\n",
        "\n",
        "W = [\n",
        "    np.array([[-0.0053, 0.3793],\n",
        "              [-0.5820, -0.5204],\n",
        "              [-0.2723, 0.1896]], dtype=np.float32).T,\n",
        "    np.array([-0.0140, 0.5607, -0.0628], dtype=np.float32),\n",
        "    np.array([[ 0.1528, -0.1745, -0.1135]], dtype=np.float32).T,\n",
        "    np.array([-0.5516], dtype=np.float32)\n",
        "]\n",
        "losses = []\n",
        "epochs = 1000\n",
        "for epoch in range(epochs):\n",
        "  W, loss = update_weights(x, y, W, 0.01)\n",
        "  losses.append(loss)"
      ],
      "metadata": {
        "id": "ILeCm9PtyZEp"
      },
      "execution_count": 56,
      "outputs": []
    },
    {
      "cell_type": "code",
      "source": [
        "print(W)"
      ],
      "metadata": {
        "colab": {
          "base_uri": "https://localhost:8080/"
        },
        "id": "Up2LGmmyuqgO",
        "outputId": "e332abe0-a9c0-4654-ae8d-35ad315e01ee"
      },
      "execution_count": 57,
      "outputs": [
        {
          "output_type": "stream",
          "name": "stdout",
          "text": [
            "[array([[-0.1253222 , -0.40145403, -0.2238192 ],\n",
            "       [ 0.25929567, -0.33987227,  0.23808418]], dtype=float32), array([-0.13402238,  0.7412741 , -0.01431506], dtype=float32), array([[ 0.1528],\n",
            "       [-0.1745],\n",
            "       [-0.1135]], dtype=float32), array([-0.5516], dtype=float32)]\n"
          ]
        }
      ]
    },
    {
      "cell_type": "code",
      "source": [
        "%matplotlib inline\n",
        "plt.plot(losses)"
      ],
      "metadata": {
        "colab": {
          "base_uri": "https://localhost:8080/",
          "height": 447
        },
        "id": "yu4sQL67uQVp",
        "outputId": "d1b69fa2-d76b-4050-b145-60d7fb891d81"
      },
      "execution_count": 58,
      "outputs": [
        {
          "output_type": "execute_result",
          "data": {
            "text/plain": [
              "[<matplotlib.lines.Line2D at 0x7e5547d7a710>]"
            ]
          },
          "metadata": {},
          "execution_count": 58
        },
        {
          "output_type": "display_data",
          "data": {
            "text/plain": [
              "<Figure size 640x480 with 1 Axes>"
            ],
            "image/png": "[encoded data removed]"
          },
          "metadata": {}
        }
      ]
    },
    {
      "cell_type": "code",
      "source": [
        "x = np.array([[10,10]])\n",
        "\n",
        "pre_hidden = np.dot(x, W[0]) + W[1]\n",
        "hidden =  1 / (1 + np.exp(-pre_hidden)) # sigmoid\n",
        "pred_out = np.dot(hidden, W[2]) + W[3]\n",
        "print(pred_out)"
      ],
      "metadata": {
        "colab": {
          "base_uri": "https://localhost:8080/"
        },
        "id": "wxyVLuGRvHlT",
        "outputId": "c10c6eab-ef65-4aae-ae95-758eae8324b4"
      },
      "execution_count": 59,
      "outputs": [
        {
          "output_type": "stream",
          "name": "stdout",
          "text": [
            "[[-0.49462149]]\n"
          ]
        }
      ]
    },
    {
      "cell_type": "markdown",
      "source": [
        "## Learn LR"
      ],
      "metadata": {
        "id": "vNXtbUZdvBdv"
      }
    },
    {
      "cell_type": "code",
      "source": [],
      "metadata": {
        "id": "NyDLX0jjwOD3"
      },
      "execution_count": 89,
      "outputs": []
    },
    {
      "cell_type": "code",
      "source": [
        "\n",
        "from copy import deepcopy\n",
        "import numpy as np\n",
        "def feed_forward(inputs, outputs, weights):\n",
        "    out = np.dot(inputs,weights[0])+ weights[1]\n",
        "    mean_squared_error = np.mean(np.square(out - outputs))\n",
        "    return mean_squared_error\n",
        "\n",
        "def update_weights(inputs, outputs, weights, lr):\n",
        "    original_weights = deepcopy(weights)\n",
        "    org_loss = feed_forward(inputs, outputs, original_weights)\n",
        "    updated_weights = deepcopy(weights)\n",
        "    for i, layer in enumerate(original_weights):\n",
        "        for index, weight in np.ndenumerate(layer):\n",
        "            temp_weights = deepcopy(weights)\n",
        "            temp_weights[i][index] += 0.0001\n",
        "            _loss_plus = feed_forward(inputs, outputs, temp_weights)\n",
        "            grad = (_loss_plus - org_loss)/(0.0001)\n",
        "            updated_weights[i][index] -= grad*lr\n",
        "    return updated_weights"
      ],
      "metadata": {
        "id": "czjh7ptovHG4"
      },
      "execution_count": 73,
      "outputs": []
    },
    {
      "cell_type": "code",
      "source": [
        "x = [[1],[2],[3],[4]]\n",
        "y = [[3],[6],[9],[12]]\n",
        "W = [np.array([[0]], dtype=np.float32), np.array([[0]], dtype=np.float32)]\n",
        "weight_value = []\n",
        "for epx in range(100):\n",
        "  weight_value.append(W[0][0][0])\n",
        "  W = update_weights(x,y,W,0.1)\n",
        ""
      ],
      "metadata": {
        "id": "lq9a6Mpr1GTU"
      },
      "execution_count": 97,
      "outputs": []
    },
    {
      "cell_type": "code",
      "source": [
        "import matplotlib.pyplot as plt\n",
        "%matplotlib inline\n",
        "plt.plot(weight_value)\n",
        "plt.title('Weight value over increasing epochs')\n",
        "plt.xlabel('Epochs')\n",
        "plt.ylabel('Weight value')"
      ],
      "metadata": {
        "colab": {
          "base_uri": "https://localhost:8080/",
          "height": 489
        },
        "id": "FPDAickg1LSq",
        "outputId": "abfb3c7e-a336-4ded-8796-238648e1f61c"
      },
      "execution_count": 98,
      "outputs": [
        {
          "output_type": "execute_result",
          "data": {
            "text/plain": [
              "Text(0, 0.5, 'Weight value')"
            ]
          },
          "metadata": {},
          "execution_count": 98
        },
        {
          "output_type": "display_data",
          "data": {
            "text/plain": [
              "<Figure size 640x480 with 1 Axes>"
            ],
            "image/png": "[encoded data removed]"
          },
          "metadata": {}
        }
      ]
    }
  ]
}