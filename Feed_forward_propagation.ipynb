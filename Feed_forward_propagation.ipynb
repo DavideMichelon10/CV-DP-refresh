{
  "nbformat": 4,
  "nbformat_minor": 0,
  "metadata": {
    "colab": {
      "provenance": [],
      "collapsed_sections": [
        "vNXtbUZdvBdv"
      ],
      "authorship_tag": "ABX9TyPBfQYvPYpUeJUI3zUrD8Ev",
      "include_colab_link": true
    },
    "kernelspec": {
      "name": "python3",
      "display_name": "Python 3"
    },
    "language_info": {
      "name": "python"
    }
  },
  "cells": [
    {
      "cell_type": "markdown",
      "metadata": {
        "id": "view-in-github",
        "colab_type": "text"
      },
      "source": [
        "<a href=\"https://colab.research.google.com/github/DavideMichelon10/CV-DP-refresh/blob/main/Feed_forward_propagation.ipynb\" target=\"_parent\"><img src=\"https://colab.research.google.com/assets/colab-badge.svg\" alt=\"Open In Colab\"/></a>"
      ]
    },
    {
      "cell_type": "code",
      "execution_count": 1,
      "metadata": {
        "id": "OdcxD_sec2kw"
      },
      "outputs": [],
      "source": [
        "import numpy as np"
      ]
    },
    {
      "cell_type": "code",
      "source": [
        "def tanh(x):\n",
        "  return (np.exp(x) - np.exp(-x)) / (np.exp(x) + np.exp(-x))\n",
        "def relu(x):\n",
        "  return np.where(x>0, x, 0)\n",
        "def linear(x):\n",
        "  return x"
      ],
      "metadata": {
        "id": "AYbll3OmgXOF"
      },
      "execution_count": 4,
      "outputs": []
    },
    {
      "cell_type": "code",
      "source": [
        "def feed_forward(inputs, outputs, weights):\n",
        "  pre_hidden = np.dot(inputs, weights[0]) + weights[1]\n",
        "  hidden =  1 / (1 + np.exp(-pre_hidden)) # sigmoid\n",
        "  pred_out = np.dot(hidden, weights[2]) + weights[3]\n",
        "  mean_squared_error = np.mean(np.square(outputs - pred_out))\n",
        "  return mean_squared_error"
      ],
      "metadata": {
        "id": "fseUyCqtevrE"
      },
      "execution_count": 59,
      "outputs": []
    },
    {
      "cell_type": "code",
      "source": [
        "def softmax(x: list): #ritorna un probability vector\n",
        "  return np.exp(x) / np.sum (np.exp(x))"
      ],
      "metadata": {
        "colab": {
          "base_uri": "https://localhost:8080/"
        },
        "id": "HQIpn06FhSVQ",
        "outputId": "1dba4dc4-26d0-41db-e90d-8f844cd913fe"
      },
      "execution_count": 10,
      "outputs": [
        {
          "output_type": "execute_result",
          "data": {
            "text/plain": [
              "array([0.00606817, 0.33131061, 0.33131061, 0.33131061])"
            ]
          },
          "metadata": {},
          "execution_count": 10
        }
      ]
    },
    {
      "cell_type": "markdown",
      "source": [
        "## Loss functions"
      ],
      "metadata": {
        "id": "U3K6syjSkk38"
      }
    },
    {
      "cell_type": "code",
      "source": [
        "# variabili continue\n",
        "def mse(outputs, y): # (output - y)^2\n",
        "  return np.mean(np.square(outputs - y))\n",
        "def mae(outputs, y): # |output - y|\n",
        "  return np.mean(np.abs(outputs - y))"
      ],
      "metadata": {
        "id": "wQh3xQ76kxUF"
      },
      "execution_count": 11,
      "outputs": []
    },
    {
      "cell_type": "code",
      "source": [
        "# variabili categoriche\n",
        "def binary_cross_entropy(outputs, y): # [1,1,1,0,1,0,0, ... ]\n",
        "  return - np.mean(y * np.log(outputs) + (1-y) * np.log(1-outputs))\n",
        "\n",
        "def categorical_cross_entropy(outputs, y):\n",
        "  return - np.mean(np.log(outputs[np.arange(len(y)), y]))"
      ],
      "metadata": {
        "id": "giHiIFqflIdp"
      },
      "execution_count": null,
      "outputs": []
    },
    {
      "cell_type": "markdown",
      "source": [
        "## Gradient descent"
      ],
      "metadata": {
        "id": "vSatEmV7xpvL"
      }
    },
    {
      "cell_type": "code",
      "source": [
        "from copy import deepcopy"
      ],
      "metadata": {
        "id": "oDFxxGvUxtmD"
      },
      "execution_count": 54,
      "outputs": []
    },
    {
      "cell_type": "code",
      "source": [
        "def update_weights(inputs, outputs, weights, lr):\n",
        "  original_inputs = deepcopy(inputs)\n",
        "  original_outputs = deepcopy(outputs)\n",
        "  original_weights = deepcopy(weights)\n",
        "  original_loss = feed_forward(inputs, outputs, weights)\n",
        "\n",
        "  for i, layer in enumerate(original_weights):\n",
        "    for y, weight in np.ndenumerate(layer):\n",
        "      temp_weights = deepcopy(weights)\n",
        "      temp_weights[i][y] += 0.3\n",
        "      _loss_plus = feed_forward(inputs, outputs, temp_weights)\n",
        "      grad = (_loss_plus - original_loss) / 0.0001\n",
        "      print(f\"orginal_loss: {original_loss} _loss_plus: {_loss_plus}, grad: {grad}\")"
      ],
      "metadata": {
        "id": "-1LBKFgex6yD"
      },
      "execution_count": 65,
      "outputs": []
    },
    {
      "cell_type": "code",
      "source": [
        "x = np.array([[1,1]])\n",
        "y = np.array([[0]])\n",
        "weights = [\n",
        "    np.array([[-0.0053, 0.3793],\n",
        "              [-0.5820, -0.5204],\n",
        "              [-0.2723, 0.1896]], dtype=np.float32).T,\n",
        "    np.array([-0.0140, 0.5607, -0.0628], dtype=np.float32),\n",
        "    np.array([[ 0.1528, -0.1745, -0.1135]], dtype=np.float32).T,\n",
        "    np.array([-0.5516], dtype=np.float32)\n",
        "]\n",
        "update_weights(x, y, weights, 0.2)"
      ],
      "metadata": {
        "colab": {
          "base_uri": "https://localhost:8080/"
        },
        "id": "ILeCm9PtyZEp",
        "outputId": "043b93a7-07ea-4b3f-c068-f6865d53684c"
      },
      "execution_count": 66,
      "outputs": [
        {
          "output_type": "stream",
          "name": "stdout",
          "text": [
            "orginal_loss: 0.33455008989960927 _loss_plus: 0.32225313666590205, grad: -122.9695323370722\n",
            "orginal_loss: 0.33455008989960927 _loss_plus: 0.34925757652788114, grad: 147.0748662827187\n",
            "orginal_loss: 0.33455008989960927 _loss_plus: 0.3444511214783622, grad: 99.01031578752938\n",
            "orginal_loss: 0.33455008989960927 _loss_plus: 0.32225313722845494, grad: -122.96952671154325\n",
            "orginal_loss: 0.33455008989960927 _loss_plus: 0.34925757652788114, grad: 147.0748662827187\n",
            "orginal_loss: 0.33455008989960927 _loss_plus: 0.34445112098500597, grad: 99.01031085396694\n",
            "orginal_loss: 0.33455008989960927 _loss_plus: 0.32225313715586745, grad: -122.96952743741818\n",
            "orginal_loss: 0.33455008989960927 _loss_plus: 0.34925757652788114, grad: 147.0748662827187\n",
            "orginal_loss: 0.33455008989960927 _loss_plus: 0.34445112172504033, grad: 99.0103182543106\n",
            "orginal_loss: 0.33455008989960927 _loss_plus: 0.16135559065674507, grad: -1731.9449924286419\n",
            "orginal_loss: 0.33455008989960927 _loss_plus: 0.21908520476590496, grad: -1154.6488513370432\n",
            "orginal_loss: 0.33455008989960927 _loss_plus: 0.19298126962500134, grad: -1415.6882027460792\n",
            "orginal_loss: 0.33455008989960927 _loss_plus: 0.07750825240599968, grad: -2570.418374936096\n"
          ]
        }
      ]
    },
    {
      "cell_type": "markdown",
      "source": [
        "## Backpropagation"
      ],
      "metadata": {
        "id": "vNXtbUZdvBdv"
      }
    },
    {
      "cell_type": "code",
      "source": [],
      "metadata": {
        "id": "czjh7ptovHG4"
      },
      "execution_count": 66,
      "outputs": []
    }
  ]
}