{
  "nbformat": 4,
  "nbformat_minor": 0,
  "metadata": {
    "colab": {
      "provenance": [],
      "collapsed_sections": [
        "vNXtbUZdvBdv"
      ],
      "authorship_tag": "ABX9TyNlanLDE3wnwxMKGzA0XowU",
      "include_colab_link": true
    },
    "kernelspec": {
      "name": "python3",
      "display_name": "Python 3"
    },
    "language_info": {
      "name": "python"
    }
  },
  "cells": [
    {
      "cell_type": "markdown",
      "metadata": {
        "id": "view-in-github",
        "colab_type": "text"
      },
      "source": [
        "<a href=\"https://colab.research.google.com/github/DavideMichelon10/CV-DP-refresh/blob/main/Feed_forward_propagation.ipynb\" target=\"_parent\"><img src=\"https://colab.research.google.com/assets/colab-badge.svg\" alt=\"Open In Colab\"/></a>"
      ]
    },
    {
      "cell_type": "code",
      "execution_count": 3,
      "metadata": {
        "id": "OdcxD_sec2kw"
      },
      "outputs": [],
      "source": [
        "import numpy as np"
      ]
    },
    {
      "cell_type": "code",
      "source": [
        "def tanh(x):\n",
        "  return (np.exp(x) - np.exp(-x)) / (np.exp(x) + np.exp(-x))\n",
        "def relu(x):\n",
        "  return np.where(x>0, x, 0)\n",
        "def linear(x):\n",
        "  return x"
      ],
      "metadata": {
        "id": "AYbll3OmgXOF"
      },
      "execution_count": 4,
      "outputs": []
    },
    {
      "cell_type": "code",
      "source": [
        "def feed_forward(inputs, outputs, weights):\n",
        "  pre_hidden = np.dot(inputs, weights[0]) + weights[1]\n",
        "  hidden =  1 / (1 + np.exp(-pre_hidden)) # sigmoid\n",
        "  pred_out = np.dot(hidden, weights[2]) + weights[3]\n",
        "  mean_squared_error = np.mean(np.square(outputs - pred_out))\n",
        "  return mean_squared_error"
      ],
      "metadata": {
        "id": "fseUyCqtevrE"
      },
      "execution_count": 5,
      "outputs": []
    },
    {
      "cell_type": "code",
      "source": [
        "def softmax(x: list): #ritorna un probability vector\n",
        "  return np.exp(x) / np.sum (np.exp(x))"
      ],
      "metadata": {
        "id": "HQIpn06FhSVQ"
      },
      "execution_count": 6,
      "outputs": []
    },
    {
      "cell_type": "markdown",
      "source": [
        "## Loss functions"
      ],
      "metadata": {
        "id": "U3K6syjSkk38"
      }
    },
    {
      "cell_type": "code",
      "source": [
        "# variabili continue\n",
        "def mse(outputs, y): # (output - y)^2\n",
        "  return np.mean(np.square(outputs - y))\n",
        "def mae(outputs, y): # |output - y|\n",
        "  return np.mean(np.abs(outputs - y))"
      ],
      "metadata": {
        "id": "wQh3xQ76kxUF"
      },
      "execution_count": 7,
      "outputs": []
    },
    {
      "cell_type": "code",
      "source": [
        "# variabili categoriche\n",
        "def binary_cross_entropy(outputs, y): # [1,1,1,0,1,0,0, ... ]\n",
        "  return - np.mean(y * np.log(outputs) + (1-y) * np.log(1-outputs))\n",
        "\n",
        "def categorical_cross_entropy(outputs, y):\n",
        "  return - np.mean(np.log(outputs[np.arange(len(y)), y]))"
      ],
      "metadata": {
        "id": "giHiIFqflIdp"
      },
      "execution_count": 8,
      "outputs": []
    },
    {
      "cell_type": "markdown",
      "source": [
        "## Gradient descent"
      ],
      "metadata": {
        "id": "vSatEmV7xpvL"
      }
    },
    {
      "cell_type": "code",
      "source": [
        "from copy import deepcopy"
      ],
      "metadata": {
        "id": "oDFxxGvUxtmD"
      },
      "execution_count": 9,
      "outputs": []
    },
    {
      "cell_type": "code",
      "source": [
        "def update_weights(inputs, outputs, weights, lr):\n",
        "    original_weights = deepcopy(weights)\n",
        "    temp_weights = deepcopy(weights)\n",
        "    updated_weights = deepcopy(weights)\n",
        "    original_loss = feed_forward(inputs, outputs, original_weights)\n",
        "\n",
        "    for i, layer in enumerate(original_weights):\n",
        "        for index, weight in np.ndenumerate(layer):\n",
        "            temp_weights = deepcopy(weights)\n",
        "            temp_weights[i][index] += 0.0001\n",
        "            _loss_plus = feed_forward(inputs, outputs, temp_weights)\n",
        "            grad = (_loss_plus - original_loss)/ 0.0001\n",
        "            updated_weights[i][index] -= grad*lr\n",
        "    return updated_weights, original_loss"
      ],
      "metadata": {
        "id": "-1LBKFgex6yD"
      },
      "execution_count": 15,
      "outputs": []
    },
    {
      "cell_type": "code",
      "source": [
        "x = np.array([[1,1]])\n",
        "y = np.array([[0]])\n",
        "\n",
        "W = [\n",
        "    np.array([[-0.0053, 0.3793],\n",
        "              [-0.5820, -0.5204],\n",
        "              [-0.2723, 0.1896]], dtype=np.float32).T,\n",
        "    np.array([-0.0140, 0.5607, -0.0628], dtype=np.float32),\n",
        "    np.array([[ 0.1528, -0.1745, -0.1135]], dtype=np.float32).T,\n",
        "    np.array([-0.5516], dtype=np.float32)\n",
        "]\n",
        "losses = []\n",
        "epochs = 1000\n",
        "for epoch in range(epochs):\n",
        "  W, loss = update_weights(x, y, W, 0.01)\n",
        "  losses.append(loss)"
      ],
      "metadata": {
        "id": "ILeCm9PtyZEp"
      },
      "execution_count": 30,
      "outputs": []
    },
    {
      "cell_type": "code",
      "source": [
        "print(W)"
      ],
      "metadata": {
        "colab": {
          "base_uri": "https://localhost:8080/"
        },
        "id": "Up2LGmmyuqgO",
        "outputId": "c7170262-077f-4478-ea62-cd7454a5f6e8"
      },
      "execution_count": 31,
      "outputs": [
        {
          "output_type": "stream",
          "name": "stdout",
          "text": [
            "[array([[ 0.01513933, -0.59091234, -0.2753938 ],\n",
            "       [ 0.39973646, -0.5293123 ,  0.18651634]], dtype=float32), array([ 0.00643913,  0.5517877 , -0.06588893], dtype=float32), array([[ 0.353702  ],\n",
            "       [-0.05150617],\n",
            "       [ 0.04239516]], dtype=float32), array([-0.21453972], dtype=float32)]\n"
          ]
        }
      ]
    },
    {
      "cell_type": "code",
      "source": [
        "import matplotlib.pyplot as plt\n",
        "%matplotlib inline\n",
        "plt.plot(losses)"
      ],
      "metadata": {
        "colab": {
          "base_uri": "https://localhost:8080/",
          "height": 451
        },
        "id": "yu4sQL67uQVp",
        "outputId": "2e0f8bae-1362-4326-b415-d31e36aa830c"
      },
      "execution_count": 32,
      "outputs": [
        {
          "output_type": "execute_result",
          "data": {
            "text/plain": [
              "[<matplotlib.lines.Line2D at 0x7e55482a5350>]"
            ]
          },
          "metadata": {},
          "execution_count": 32
        },
        {
          "output_type": "display_data",
          "data": {
            "text/plain": [
              "<Figure size 640x480 with 1 Axes>"
            ],
            "image/png": "[encoded data removed]"
          },
          "metadata": {}
        }
      ]
    },
    {
      "cell_type": "markdown",
      "source": [
        "## Backpropagation"
      ],
      "metadata": {
        "id": "vNXtbUZdvBdv"
      }
    },
    {
      "cell_type": "code",
      "source": [],
      "metadata": {
        "id": "czjh7ptovHG4"
      },
      "execution_count": 11,
      "outputs": []
    }
  ]
}