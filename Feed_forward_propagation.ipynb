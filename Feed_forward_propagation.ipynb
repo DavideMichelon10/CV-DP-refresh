{
  "nbformat": 4,
  "nbformat_minor": 0,
  "metadata": {
    "colab": {
      "provenance": [],
      "collapsed_sections": [
        "vNXtbUZdvBdv"
      ],
      "authorship_tag": "ABX9TyPN7Ci0r9XMN4iwO/hHbXJg",
      "include_colab_link": true
    },
    "kernelspec": {
      "name": "python3",
      "display_name": "Python 3"
    },
    "language_info": {
      "name": "python"
    }
  },
  "cells": [
    {
      "cell_type": "markdown",
      "metadata": {
        "id": "view-in-github",
        "colab_type": "text"
      },
      "source": [
        "<a href=\"https://colab.research.google.com/github/DavideMichelon10/CV-DP-refresh/blob/main/Feed_forward_propagation.ipynb\" target=\"_parent\"><img src=\"https://colab.research.google.com/assets/colab-badge.svg\" alt=\"Open In Colab\"/></a>"
      ]
    },
    {
      "cell_type": "code",
      "execution_count": 1,
      "metadata": {
        "id": "OdcxD_sec2kw"
      },
      "outputs": [],
      "source": [
        "import numpy as np"
      ]
    },
    {
      "cell_type": "code",
      "source": [
        "def tanh(x):\n",
        "  return (np.exp(x) - np.exp(-x)) / (np.exp(x) + np.exp(-x))\n",
        "def relu(x):\n",
        "  return np.where(x>0, x, 0)\n",
        "def linear(x):\n",
        "  return x"
      ],
      "metadata": {
        "id": "AYbll3OmgXOF"
      },
      "execution_count": 4,
      "outputs": []
    },
    {
      "cell_type": "code",
      "source": [
        "def feed_forward(inputs, outputs, weights):\n",
        "  pre_hidden = np.dot(inputs, weights[0]) + weights[1]\n",
        "  hidden =  1 / (1 + np.exp(-pre_hidden)) # sigmoid\n",
        "  pred_out = np.dot(hidden, weights[2]) + weights[3]\n",
        "  mean_squared_error = np.mean(np.square(outputs - pred_out))\n",
        "  return mean_squared_error"
      ],
      "metadata": {
        "id": "fseUyCqtevrE"
      },
      "execution_count": 59,
      "outputs": []
    },
    {
      "cell_type": "code",
      "source": [
        "def softmax(x: list): #ritorna un probability vector\n",
        "  return np.exp(x) / np.sum (np.exp(x))"
      ],
      "metadata": {
        "colab": {
          "base_uri": "https://localhost:8080/"
        },
        "id": "HQIpn06FhSVQ",
        "outputId": "1dba4dc4-26d0-41db-e90d-8f844cd913fe"
      },
      "execution_count": 10,
      "outputs": [
        {
          "output_type": "execute_result",
          "data": {
            "text/plain": [
              "array([0.00606817, 0.33131061, 0.33131061, 0.33131061])"
            ]
          },
          "metadata": {},
          "execution_count": 10
        }
      ]
    },
    {
      "cell_type": "markdown",
      "source": [
        "## Loss functions"
      ],
      "metadata": {
        "id": "U3K6syjSkk38"
      }
    },
    {
      "cell_type": "code",
      "source": [
        "# variabili continue\n",
        "def mse(outputs, y): # (output - y)^2\n",
        "  return np.mean(np.square(outputs - y))\n",
        "def mae(outputs, y): # |output - y|\n",
        "  return np.mean(np.abs(outputs - y))"
      ],
      "metadata": {
        "id": "wQh3xQ76kxUF"
      },
      "execution_count": 11,
      "outputs": []
    },
    {
      "cell_type": "code",
      "source": [
        "# variabili categoriche\n",
        "def binary_cross_entropy(outputs, y): # [1,1,1,0,1,0,0, ... ]\n",
        "  return - np.mean(y * np.log(outputs) + (1-y) * np.log(1-outputs))\n",
        "\n",
        "def categorical_cross_entropy(outputs, y):\n",
        "  return - np.mean(np.log(outputs[np.arange(len(y)), y]))"
      ],
      "metadata": {
        "id": "giHiIFqflIdp"
      },
      "execution_count": null,
      "outputs": []
    },
    {
      "cell_type": "markdown",
      "source": [
        "## Gradient descent"
      ],
      "metadata": {
        "id": "vSatEmV7xpvL"
      }
    },
    {
      "cell_type": "code",
      "source": [
        "from copy import deepcopy"
      ],
      "metadata": {
        "id": "oDFxxGvUxtmD"
      },
      "execution_count": 54,
      "outputs": []
    },
    {
      "cell_type": "code",
      "source": [
        "def update_weights(inputs, outputs, weights, lr):\n",
        "    original_weights = deepcopy(weights)\n",
        "    temp_weights = deepcopy(weights)\n",
        "    updated_weights = deepcopy(weights)\n",
        "    original_loss = feed_forward(inputs, outputs, original_weights)\n",
        "\n",
        "    for i, layer in enumerate(original_weights):\n",
        "        for index, weight in np.ndenumerate(layer):\n",
        "            temp_weights = deepcopy(weights)\n",
        "            temp_weights[i][index] += lr\n",
        "            _loss_plus = feed_forward(inputs, outputs, temp_weights)\n",
        "            grad = (_loss_plus - original_loss)/ lr\n",
        "            updated_weights[i][index] -= grad*lr\n",
        "            print(f\"original_loss: {original_loss} _loss_plus: {_loss_plus} grad: {grad}\")\n",
        "    return updated_weights, original_loss"
      ],
      "metadata": {
        "id": "-1LBKFgex6yD"
      },
      "execution_count": 92,
      "outputs": []
    },
    {
      "cell_type": "code",
      "source": [
        "x = np.array([[1,1]])\n",
        "y = np.array([[0]])\n",
        "weights = [\n",
        "    np.array([[-0.0053, 0.3793],\n",
        "              [-0.5820, -0.5204],\n",
        "              [-0.2723, 0.1896]], dtype=np.float32).T,\n",
        "    np.array([-0.0140, 0.5607, -0.0628], dtype=np.float32),\n",
        "    np.array([[ 0.1528, -0.1745, -0.1135]], dtype=np.float32).T,\n",
        "    np.array([-0.5516], dtype=np.float32)\n",
        "]\n",
        "update_weights(x, y, weights, 0.001)"
      ],
      "metadata": {
        "colab": {
          "base_uri": "https://localhost:8080/"
        },
        "id": "ILeCm9PtyZEp",
        "outputId": "aa84bc0c-834b-4b48-dd41-b427368eb6c6"
      },
      "execution_count": 93,
      "outputs": [
        {
          "output_type": "stream",
          "name": "stdout",
          "text": [
            "original_loss: 0.33455008989960927 _loss_plus: 0.33450730647047366 grad: -0.04278342913560662\n",
            "original_loss: 0.33455008989960927 _loss_plus: 0.33459703447394723 grad: 0.04694457433795929\n",
            "original_loss: 0.33455008989960927 _loss_plus: 0.33458274271782396 grad: 0.032652818214684576\n",
            "original_loss: 0.33455008989960927 _loss_plus: 0.3345073070282384 grad: -0.042782871370883324\n",
            "original_loss: 0.33455008989960927 _loss_plus: 0.33459703447394723 grad: 0.04694457433795929\n",
            "original_loss: 0.33455008989960927 _loss_plus: 0.3345827432044245 grad: 0.03265330481522222\n",
            "original_loss: 0.33455008989960927 _loss_plus: 0.33450730647047366 grad: -0.04278342913560662\n",
            "original_loss: 0.33455008989960927 _loss_plus: 0.33459703447394723 grad: 0.04694457433795929\n",
            "original_loss: 0.33455008989960927 _loss_plus: 0.33458274308277436 grad: 0.03265318316508781\n",
            "original_loss: 0.33455008989960927 _loss_plus: 0.33386902992035183 grad: -0.6810599792574368\n",
            "original_loss: 0.33455008989960927 _loss_plus: 0.33412476004015845 grad: -0.42532985945081814\n",
            "original_loss: 0.33455008989960927 _loss_plus: 0.3340139055125073 grad: -0.5361843871019567\n",
            "original_loss: 0.33455008989960927 _loss_plus: 0.33339429866442666 grad: -1.1557912351826127\n"
          ]
        },
        {
          "output_type": "execute_result",
          "data": {
            "text/plain": [
              "([array([[-0.00525722, -0.582047  , -0.27233267],\n",
              "         [ 0.3793428 , -0.52044696,  0.18956736]], dtype=float32),\n",
              "  array([-0.01395722,  0.56065303, -0.06283265], dtype=float32),\n",
              "  array([[ 0.15348105],\n",
              "         [-0.17407468],\n",
              "         [-0.11296382]], dtype=float32),\n",
              "  array([-0.5504442], dtype=float32)],\n",
              " np.float64(0.33455008989960927))"
            ]
          },
          "metadata": {},
          "execution_count": 93
        }
      ]
    },
    {
      "cell_type": "markdown",
      "source": [
        "## Backpropagation"
      ],
      "metadata": {
        "id": "vNXtbUZdvBdv"
      }
    },
    {
      "cell_type": "code",
      "source": [],
      "metadata": {
        "id": "czjh7ptovHG4"
      },
      "execution_count": 66,
      "outputs": []
    }
  ]
}