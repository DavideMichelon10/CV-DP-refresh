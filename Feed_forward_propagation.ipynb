{
  "nbformat": 4,
  "nbformat_minor": 0,
  "metadata": {
    "colab": {
      "provenance": [],
      "authorship_tag": "ABX9TyMz6dsWJtpj3OpTg5AcJMdc",
      "include_colab_link": true
    },
    "kernelspec": {
      "name": "python3",
      "display_name": "Python 3"
    },
    "language_info": {
      "name": "python"
    }
  },
  "cells": [
    {
      "cell_type": "markdown",
      "metadata": {
        "id": "view-in-github",
        "colab_type": "text"
      },
      "source": [
        "<a href=\"https://colab.research.google.com/github/DavideMichelon10/CV-DP-refresh/blob/main/Feed_forward_propagation.ipynb\" target=\"_parent\"><img src=\"https://colab.research.google.com/assets/colab-badge.svg\" alt=\"Open In Colab\"/></a>"
      ]
    },
    {
      "cell_type": "code",
      "execution_count": 1,
      "metadata": {
        "id": "OdcxD_sec2kw"
      },
      "outputs": [],
      "source": [
        "import numpy as np"
      ]
    },
    {
      "cell_type": "code",
      "source": [
        "def feed_forward(input, output, weights):\n",
        "  pre_hidden = np.dot(input, weights[0]) + weights[1]\n",
        "  hidden =  1 / (1 + np.exp(-pre_hidden))\n",
        "  pred_out = np.dot(hidden, weights[2]) + weights[3]"
      ],
      "metadata": {
        "id": "fseUyCqtevrE"
      },
      "execution_count": 2,
      "outputs": []
    }
  ]
}